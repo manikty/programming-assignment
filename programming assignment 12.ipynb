{
 "cells": [
  {
   "cell_type": "code",
   "execution_count": 1,
   "id": "11364d60",
   "metadata": {},
   "outputs": [
    {
     "name": "stdout",
     "output_type": "stream",
     "text": [
      "The original dictionary is : {'gfg': [5, 6, 7, 8], 'is': [10, 11, 7, 5], 'best': [6, 12, 10, 8], 'for': [1, 2, 5]}\n",
      "The unique values list is : [1, 2, 5, 6, 7, 8, 10, 11, 12]\n"
     ]
    }
   ],
   "source": [
    "\"1. Write a Python program to Extract Unique values dictionary values?\"\n",
    "\n",
    "test_dict = {'gfg' : [5, 6, 7, 8],'is' : [10, 11, 7, 5],'best' : [6, 12, 10, 8],'for' : [1, 2, 5]}\n",
    "print(\"The original dictionary is : \" + str(test_dict))\n",
    "\n",
    "x=[]\n",
    "for i in test_dict.keys():\n",
    "    x.extend(test_dict[i])\n",
    "x=list(set(x))\n",
    "x.sort()\n",
    "print(\"The unique values list is : \" + str(x))\n"
   ]
  },
  {
   "cell_type": "code",
   "execution_count": 2,
   "id": "48ecaf19",
   "metadata": {},
   "outputs": [
    {
     "name": "stdout",
     "output_type": "stream",
     "text": [
      "Sum : 67\n"
     ]
    }
   ],
   "source": [
    "\"2. Write a Python program to find the sum of all items in a dictionary?\"\n",
    "def returnSum(dict):\n",
    " \n",
    "    sum = 0\n",
    "    for i in dict:\n",
    "        sum = sum + dict[i]\n",
    " \n",
    "    return sum\n",
    " \n",
    "dict = {'a': 10, 'b': 27, 'c': 30}\n",
    "print(\"Sum :\", returnSum(dict))"
   ]
  },
  {
   "cell_type": "code",
   "execution_count": 3,
   "id": "3a4263fd",
   "metadata": {},
   "outputs": [
    {
     "name": "stdout",
     "output_type": "stream",
     "text": [
      "{1: 'a', 2: 'c', 4: 'd'}\n"
     ]
    }
   ],
   "source": [
    "\"3. Write a Python program to Merging two Dictionaries?\"\n",
    "dict_1 = {1: 'a', 2: 'b'}\n",
    "dict_2 = {2: 'c', 4: 'd'}\n",
    "\n",
    "print(dict_1 | dict_2)"
   ]
  },
  {
   "cell_type": "code",
   "execution_count": 5,
   "id": "dc35253a",
   "metadata": {},
   "outputs": [
    {
     "name": "stdout",
     "output_type": "stream",
     "text": [
      "Flattened dictionary: {1: 'Jan', 2: 'Feb', 3: 'March'}\n"
     ]
    }
   ],
   "source": [
    "' 4. Write a Python program to convert key-values list to flat dictionary?'\n",
    "test_dict = {'month': [1, 2, 3], 'name': ['Jan', 'Feb', 'March']}\n",
    "res = {test_dict['month'][i]: test_dict['name'][i] for i in range(len(test_dict['month']))}\n",
    "print(\"Flattened dictionary:\", res)\n"
   ]
  },
  {
   "cell_type": "code",
   "execution_count": 6,
   "id": "8dee63a1",
   "metadata": {},
   "outputs": [
    {
     "name": "stdout",
     "output_type": "stream",
     "text": [
      "Resultant Dictionary : OrderedDict([('manjeet', '3'), ('akshat', '1'), ('nikhil', '2')])\n"
     ]
    }
   ],
   "source": [
    "'5. Write a Python program to insertion at the beginning in OrderedDict?'\n",
    "from collections import OrderedDict\n",
    "iniordered_dict = OrderedDict([('akshat', '1'), ('nikhil', '2')])\n",
    "iniordered_dict.update({'manjeet':'3'})\n",
    "iniordered_dict.move_to_end('manjeet', last = False)\n",
    "print (\"Resultant Dictionary : \"+str(iniordered_dict))"
   ]
  },
  {
   "cell_type": "code",
   "execution_count": 7,
   "id": "df7d43e9",
   "metadata": {},
   "outputs": [
    {
     "name": "stdout",
     "output_type": "stream",
     "text": [
      "True\n"
     ]
    }
   ],
   "source": [
    "'6. Write a Python program to check order of character in string using OrderedDict()?'\n",
    "def check_order(string, pattern):\n",
    "    i, j = 0, 0\n",
    "    for char in string:\n",
    "        if char == pattern[j]:\n",
    "            j += 1\n",
    "        if j == len(pattern):\n",
    "            return True\n",
    "        i += 1\n",
    " \n",
    "    return False\n",
    "string = 'engineers rock'\n",
    "pattern = 'er'\n",
    "print(check_order(string, pattern))"
   ]
  },
  {
   "cell_type": "code",
   "execution_count": 8,
   "id": "caba1e03",
   "metadata": {},
   "outputs": [
    {
     "name": "stdout",
     "output_type": "stream",
     "text": [
      "{'jeev': 15, 'manan': 2, 'raj': 9, 'ram': 32, 'rinku': 10}\n"
     ]
    }
   ],
   "source": [
    "'7. Write a Python program to sort Python Dictionaries by Key or Value?'\n",
    "myDict = {'rinku': 10, 'raj': 9,'jeev': 15, 'manan': 2, 'ram': 32}\n",
    " \n",
    "myKeys = list(myDict.keys())\n",
    "myKeys.sort()\n",
    "sorted_dict = {i: myDict[i] for i in myKeys}\n",
    " \n",
    "print(sorted_dict)"
   ]
  },
  {
   "cell_type": "code",
   "execution_count": null,
   "id": "e19690a8",
   "metadata": {},
   "outputs": [],
   "source": []
  }
 ],
 "metadata": {
  "kernelspec": {
   "display_name": "Python 3 (ipykernel)",
   "language": "python",
   "name": "python3"
  },
  "language_info": {
   "codemirror_mode": {
    "name": "ipython",
    "version": 3
   },
   "file_extension": ".py",
   "mimetype": "text/x-python",
   "name": "python",
   "nbconvert_exporter": "python",
   "pygments_lexer": "ipython3",
   "version": "3.9.12"
  }
 },
 "nbformat": 4,
 "nbformat_minor": 5
}
