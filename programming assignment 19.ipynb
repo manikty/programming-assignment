{
 "cells": [
  {
   "cell_type": "code",
   "execution_count": 1,
   "id": "9a607813",
   "metadata": {},
   "outputs": [
    {
     "name": "stdout",
     "output_type": "stream",
     "text": [
      "aakkaasshh\n"
     ]
    }
   ],
   "source": [
    "\"\"\"Question1\n",
    "Create a function that takes a string and returns a string in which each character is repeated\n",
    "once.\n",
    "Examples\n",
    "double_char('String') ➞ 'SSttrriinngg'\n",
    "double_char('Hello World!') ➞ 'HHeelllloo WWoorrlldd!!'\n",
    "double_char('1234!_ ') ➞ '11223344!!__ '\n",
    "\"\"\"\n",
    "def double(str):\n",
    "    return ''.join([c+c for c in str])\n",
    "print(double('akash'))"
   ]
  },
  {
   "cell_type": "code",
   "execution_count": 2,
   "id": "b6465bdd",
   "metadata": {},
   "outputs": [
    {
     "name": "stdout",
     "output_type": "stream",
     "text": [
      "SSttrriinngg\n"
     ]
    }
   ],
   "source": [
    "print(double('String'))"
   ]
  },
  {
   "cell_type": "code",
   "execution_count": 3,
   "id": "d763be3f",
   "metadata": {},
   "outputs": [
    {
     "name": "stdout",
     "output_type": "stream",
     "text": [
      "HHeelllloo  WWoorrlldd!!\n"
     ]
    }
   ],
   "source": [
    "print(double('Hello World!'))"
   ]
  },
  {
   "cell_type": "code",
   "execution_count": 4,
   "id": "192cb662",
   "metadata": {},
   "outputs": [
    {
     "name": "stdout",
     "output_type": "stream",
     "text": [
      "11223344!!__  \n"
     ]
    }
   ],
   "source": [
    "print(double('1234!_ '))"
   ]
  },
  {
   "cell_type": "code",
   "execution_count": 5,
   "id": "b9172778",
   "metadata": {},
   "outputs": [],
   "source": [
    "\"\"\"Question2\n",
    "Create a function that reverses a boolean value and returns the string 'boolean expected'\n",
    "if another variable type is given.\n",
    "Examples\n",
    "reverse(True) ➞ False\n",
    "reverse(False) ➞ True\n",
    "reverse(0) ➞ 'boolean expected'\n",
    "reverse(None) ➞ 'boolean expected'\"\"\"\n",
    "def reverse(arg=None):\n",
    "    return not arg if type(arg) == bool else \"boolean expected\""
   ]
  },
  {
   "cell_type": "code",
   "execution_count": 6,
   "id": "e5ef312f",
   "metadata": {},
   "outputs": [
    {
     "name": "stdout",
     "output_type": "stream",
     "text": [
      "False\n",
      "True\n",
      "boolean expected\n",
      "boolean expected\n"
     ]
    }
   ],
   "source": [
    "print(reverse(True)) \n",
    "print(reverse(False)) \n",
    "print(reverse(0)) \n",
    "print(reverse(None)) "
   ]
  },
  {
   "cell_type": "code",
   "execution_count": 7,
   "id": "9498821e",
   "metadata": {},
   "outputs": [],
   "source": [
    "\"\"\"Question3\n",
    "Create a function that returns the thickness (in meters) of a piece of paper after folding it n\n",
    "number of times. The paper starts off with a thickness of 0.5mm.\n",
    "Examples\n",
    "num_layers(1) ➞ '0.001m'\n",
    "# Paper folded once is 1mm (equal to 0.001m)\n",
    "num_layers(4) ➞ '0.008m'\n",
    "# Paper folded 4 times is 8mm (equal to 0.008m)\n",
    "num_layers(21) ➞ '1048.576m'\n",
    "# Paper folded 21 times is 1048576mm (equal to 1048.576m)\"\"\"\n",
    "def num_layers(n):\n",
    "    thickness = 0.5\n",
    "    for _ in range(n):\n",
    "        thickness *= 2\n",
    "    \n",
    "    return str(thickness / 1000)+'m' # for meters"
   ]
  },
  {
   "cell_type": "code",
   "execution_count": 8,
   "id": "ba7817d9",
   "metadata": {},
   "outputs": [
    {
     "name": "stdout",
     "output_type": "stream",
     "text": [
      "0.001m\n",
      "0.008m\n",
      "1048.576m\n"
     ]
    }
   ],
   "source": [
    "print(num_layers(1))\n",
    "print(num_layers(4))\n",
    "print(num_layers(21))"
   ]
  },
  {
   "cell_type": "code",
   "execution_count": 9,
   "id": "2a20b57d",
   "metadata": {},
   "outputs": [],
   "source": [
    "\"\"\"Question4\n",
    "Create a function that takes a single string as argument and returns an ordered list containing\n",
    "the indices of all capital letters in the string.\n",
    "Examples\n",
    "index_of_caps('eDaBiT') ➞ [1, 3, 5]\n",
    "index_of_caps('eQuINoX') ➞ [1, 3, 4, 6]\n",
    "index_of_caps('determine') ➞ []\n",
    "index_of_caps('STRIKE') ➞ [0, 1, 2, 3, 4, 5]\n",
    "index_of_caps('sUn') ➞ [1]\n",
    "\"\"\"\n",
    "def index_of_caps(word):\n",
    "    indices = []\n",
    "    for i in range(len(word)):\n",
    "        if word[i].isupper():\n",
    "             indices.append(i)\n",
    "    return indices\n"
   ]
  },
  {
   "cell_type": "code",
   "execution_count": 10,
   "id": "970b9337",
   "metadata": {},
   "outputs": [
    {
     "name": "stdout",
     "output_type": "stream",
     "text": [
      "[]\n",
      "[0, 2]\n",
      "[1, 3, 4, 6]\n",
      "[]\n",
      "[0, 1, 2, 3, 4, 5]\n",
      "[1]\n"
     ]
    }
   ],
   "source": [
    "print(index_of_caps('manik'))\n",
    "print(index_of_caps('RiNku'))\n",
    "print(index_of_caps('eQuINoX')) \n",
    "print(index_of_caps('determine'))\n",
    "print(index_of_caps('STRIKE'))\n",
    "print(index_of_caps('sUn'))"
   ]
  },
  {
   "cell_type": "code",
   "execution_count": 11,
   "id": "30aa4adf",
   "metadata": {},
   "outputs": [
    {
     "name": "stdout",
     "output_type": "stream",
     "text": [
      "Enter a number : 20\n"
     ]
    },
    {
     "data": {
      "text/plain": [
       "[2, 4, 6, 8, 10, 12, 14, 16, 18, 20]"
      ]
     },
     "execution_count": 11,
     "metadata": {},
     "output_type": "execute_result"
    }
   ],
   "source": [
    "\"\"\"Question5\n",
    "Using list comprehensions, create a function that finds all even numbers from 1 to the given\n",
    "number.\n",
    "Examples\n",
    "find_even_nums(8) ➞ [2, 4, 6, 8]\n",
    "find_even_nums(4) ➞ [2, 4]\n",
    "find_even_nums(2) ➞ [2]\"\"\"\n",
    "def find_even_nums(n):\n",
    "    even =[x for x in range(2,n+1) if x % 2 == 0]\n",
    "    return even\n",
    "\n",
    "n = int(input('Enter a number : '))\n",
    "find_even_nums(n)"
   ]
  },
  {
   "cell_type": "code",
   "execution_count": 12,
   "id": "0ccc1f7d",
   "metadata": {},
   "outputs": [
    {
     "data": {
      "text/plain": [
       "[2, 4, 6, 8]"
      ]
     },
     "execution_count": 12,
     "metadata": {},
     "output_type": "execute_result"
    }
   ],
   "source": [
    "find_even_nums(8)"
   ]
  },
  {
   "cell_type": "code",
   "execution_count": null,
   "id": "6831eabb",
   "metadata": {},
   "outputs": [],
   "source": []
  }
 ],
 "metadata": {
  "kernelspec": {
   "display_name": "Python 3 (ipykernel)",
   "language": "python",
   "name": "python3"
  },
  "language_info": {
   "codemirror_mode": {
    "name": "ipython",
    "version": 3
   },
   "file_extension": ".py",
   "mimetype": "text/x-python",
   "name": "python",
   "nbconvert_exporter": "python",
   "pygments_lexer": "ipython3",
   "version": "3.9.12"
  }
 },
 "nbformat": 4,
 "nbformat_minor": 5
}
